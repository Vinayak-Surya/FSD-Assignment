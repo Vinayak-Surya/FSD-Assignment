{
 "cells": [
  {
   "cell_type": "markdown",
   "metadata": {},
   "source": [
    "# Full Stack Assignment 1"
   ]
  },
  {
   "cell_type": "markdown",
   "metadata": {},
   "source": [
    "## Inheritance"
   ]
  },
  {
   "cell_type": "markdown",
   "metadata": {},
   "source": [
    "### Single Inheritance"
   ]
  },
  {
   "cell_type": "code",
   "execution_count": 4,
   "metadata": {},
   "outputs": [
    {
     "name": "stdout",
     "output_type": "stream",
     "text": [
      "Constructor called -- mobile init\n",
      "Constructor called -- device init\n",
      "Mobile Details:\n",
      "\n",
      "Brand:  Samsung\n",
      "Price:  10000\n",
      "Warranty:  2 years\n",
      "OS:  Android\n",
      "Battery:  3000 mAh\n"
     ]
    }
   ],
   "source": [
    "class device:\n",
    "    def __init__(self, brand, price, warranty):\n",
    "        print(\"Constructor called -- device init\")\n",
    "        self.brand = brand\n",
    "        self.price = price\n",
    "        self.warranty = warranty\n",
    "    def details(self):\n",
    "        print(\"Brand: \", self.brand)\n",
    "        print(\"Price: \", self.price)\n",
    "        print(\"Warranty: \", self.warranty)\n",
    "        \n",
    "class mobile(device):\n",
    "    def __init__(self, brand, price, warranty, os, battery):\n",
    "        print(\"Constructor called -- mobile init\")\n",
    "        device.__init__(self, brand, price, warranty)\n",
    "        self.os = os\n",
    "        self.battery = battery\n",
    "    def printMobile(self):\n",
    "        print(\"Mobile Details:\\n\")\n",
    "        device.details(self)\n",
    "        print(\"OS: \", self.os)\n",
    "        print(\"Battery: \", self.battery)\n",
    "        \n",
    "def main():\n",
    "    m = mobile(\"Samsung\", 10000, \"2 years\", \"Android\", \"3000 mAh\")\n",
    "    m.printMobile()\n",
    "    \n",
    "if __name__ == \"__main__\":\n",
    "    main()"
   ]
  },
  {
   "cell_type": "markdown",
   "metadata": {},
   "source": [
    "### Multiple Inheritance"
   ]
  },
  {
   "cell_type": "code",
   "execution_count": 10,
   "metadata": {},
   "outputs": [
    {
     "name": "stdout",
     "output_type": "stream",
     "text": [
      "Constructor called -- Mobile init\n",
      "\n",
      "Constructor called -- Details init\n",
      "\n",
      "Constructor called -- Specs init\n",
      "\n",
      "Mobile Details: \n",
      "\n",
      "Brand:  Samsung\n",
      "Price:  10000\n",
      "Warranty:  2 years\n",
      "OS:  Android\n",
      "Battery:  3000 mAh\n"
     ]
    }
   ],
   "source": [
    "class Details:\n",
    "    def __init__(self, price, warranty, brand):\n",
    "        print(\"Constructor called -- Details init\\n\")\n",
    "        self.brand = brand\n",
    "        self.price = price\n",
    "        self.warranty = warranty\n",
    "    def printDetails(self):\n",
    "        print(\"Brand: \", self.brand)\n",
    "        print(\"Price: \", self.price)\n",
    "        print(\"Warranty: \", self.warranty)\n",
    "        \n",
    "class Specs:\n",
    "    def __init__(self, os, battery):\n",
    "        print(\"Constructor called -- Specs init\\n\")\n",
    "        self.os = os\n",
    "        self.battery = battery\n",
    "    def printSpecs(self):\n",
    "        print(\"OS: \", self.os)\n",
    "        print(\"Battery: \", self.battery)\n",
    "        \n",
    "class Mobile(Details, Specs):\n",
    "    def __init__(self, price, warranty, brand, os, battery):\n",
    "        print(\"Constructor called -- Mobile init\\n\")\n",
    "        Details.__init__(self, price, warranty, brand)\n",
    "        Specs.__init__(self, os, battery)\n",
    "    def printMobile(self):\n",
    "        print(\"Mobile Details: \\n\")\n",
    "        Details.printDetails(self)\n",
    "        Specs.printSpecs(self)\n",
    "        \n",
    "def main():\n",
    "    m = Mobile(10000, \"2 years\", \"Samsung\", \"Android\", \"3000 mAh\")\n",
    "    m.printMobile()\n",
    "    \n",
    "if __name__ == \"__main__\":\n",
    "    main()"
   ]
  },
  {
   "cell_type": "markdown",
   "metadata": {},
   "source": [
    "### Multi Level Inheritance"
   ]
  },
  {
   "cell_type": "code",
   "execution_count": 12,
   "metadata": {},
   "outputs": [
    {
     "name": "stdout",
     "output_type": "stream",
     "text": [
      "Constructor called -- SmartTV init\n",
      "Constructor called -- TV init\n",
      "Constructor called -- device init\n",
      "TV Details: \n",
      "\n",
      "Brand:  Sony\n",
      "Price:  50000\n",
      "Warranty:  3 years\n",
      "Size:  55 inches\n",
      "Resolution:  4K\n",
      "Panel:  IPS\n",
      "OS:  Google TV\n"
     ]
    }
   ],
   "source": [
    "class device:\n",
    "    def __init__(self, brand, price, warranty):\n",
    "        print(\"Constructor called -- device init\")\n",
    "        self.brand = brand\n",
    "        self.price = price\n",
    "        self.warranty = warranty\n",
    "    def details(self):\n",
    "        print(\"Brand: \", self.brand)\n",
    "        print(\"Price: \", self.price)\n",
    "        print(\"Warranty: \", self.warranty)\n",
    "        \n",
    "class TV(device):\n",
    "    def __init__(self, brand, price, warranty, size, resolution, panel):\n",
    "        print(\"Constructor called -- TV init\")\n",
    "        device.__init__(self, brand, price, warranty)\n",
    "        self.size = size\n",
    "        self.resolution = resolution\n",
    "        self.panel = panel\n",
    "    def printTV(self):\n",
    "        device.details(self)\n",
    "        print(\"Size: \", self.size)\n",
    "        print(\"Resolution: \", self.resolution)\n",
    "        print(\"Panel: \", self.panel)\n",
    "        \n",
    "class SmartTV(TV):\n",
    "    def __init__(self, brand, price, warranty, size, resolution, panel, os):\n",
    "        print(\"Constructor called -- SmartTV init\")\n",
    "        TV.__init__(self, brand, price, warranty, size, resolution, panel)\n",
    "        self.os = os\n",
    "    def printSmartTV(self):\n",
    "        print(\"TV Details: \\n\")\n",
    "        TV.printTV(self)\n",
    "        print(\"OS: \", self.os)\n",
    "        \n",
    "def main():\n",
    "    tv = SmartTV(\"Sony\", 50000, \"3 years\", \"55 inches\", \"4K\", \"IPS\", \"Google TV\")\n",
    "    tv.printSmartTV()\n",
    "    \n",
    "if __name__ == \"__main__\":\n",
    "    main()"
   ]
  },
  {
   "cell_type": "markdown",
   "metadata": {},
   "source": [
    "### Hierarchical Inheritance"
   ]
  },
  {
   "cell_type": "code",
   "execution_count": 8,
   "metadata": {},
   "outputs": [
    {
     "name": "stdout",
     "output_type": "stream",
     "text": [
      "Constructor called -- mobile init\n",
      "\n",
      "Constructor called -- device init\n",
      "\n",
      "Mobile Details:\n",
      "\n",
      "Brand:  Samsung\n",
      "Price:  10000\n",
      "Warranty:  2 years\n",
      "OS:  Android\n",
      "Battery:  3000 mAh\n",
      "Constructor called -- laptop init\n",
      "\n",
      "Constructor called -- device init\n",
      "\n",
      "Laptop details: \n",
      "\n",
      "Brand:  Dell\n",
      "Price:  50000\n",
      "Warranty:  3 years\n",
      "OS:  Windows\n",
      "CPU:  i5\n",
      "RAM:  8GB\n",
      "Storage:  1TB\n"
     ]
    }
   ],
   "source": [
    "class device:\n",
    "    def __init__(self, brand, price, warranty):\n",
    "        print(\"Constructor called -- device init\\n\")\n",
    "        self.brand = brand\n",
    "        self.price = price\n",
    "        self.warranty = warranty\n",
    "    def details(self):\n",
    "        print(\"Brand: \", self.brand)\n",
    "        print(\"Price: \", self.price)\n",
    "        print(\"Warranty: \", self.warranty)\n",
    "        \n",
    "class mobile(device):\n",
    "    def __init__(self, brand, price, warranty, os, battery):\n",
    "        print(\"Constructor called -- mobile init\\n\")\n",
    "        device.__init__(self, brand, price, warranty)\n",
    "        self.os = os\n",
    "        self.battery = battery\n",
    "    def printMobile(self):\n",
    "        print(\"Mobile Details:\\n\")\n",
    "        device.details(self)\n",
    "        print(\"OS: \", self.os)\n",
    "        print(\"Battery: \", self.battery)\n",
    "        \n",
    "class laptop(device):\n",
    "    def __init__(self, brand, price, warranty, os, cpu, ram, storage):\n",
    "        print(\"Constructor called -- laptop init\\n\")\n",
    "        device.__init__(self, brand, price, warranty)\n",
    "        self.os = os\n",
    "        self.cpu = cpu\n",
    "        self.ram = ram\n",
    "        self.storage = storage\n",
    "    def printLaptop(self):\n",
    "        print(\"Laptop details: \\n\")\n",
    "        device.details(self)\n",
    "        print(\"OS: \", self.os)\n",
    "        print(\"CPU: \", self.cpu)\n",
    "        print(\"RAM: \", self.ram)\n",
    "        print(\"Storage: \", self.storage)\n",
    "        \n",
    "def main():\n",
    "    m = mobile(\"Samsung\", 10000, \"2 years\", \"Android\", \"3000 mAh\")\n",
    "    m.printMobile()\n",
    "    \n",
    "    l = laptop(\"Dell\", 50000, \"3 years\", \"Windows\", \"i5\", \"8GB\", \"1TB\")\n",
    "    l.printLaptop()\n",
    "    \n",
    "if __name__ == \"__main__\":\n",
    "    main()"
   ]
  },
  {
   "cell_type": "markdown",
   "metadata": {},
   "source": [
    "### Hybrid Inheritance"
   ]
  },
  {
   "cell_type": "code",
   "execution_count": 16,
   "metadata": {},
   "outputs": [
    {
     "name": "stdout",
     "output_type": "stream",
     "text": [
      "Constructor called -- Mobile init\n",
      "\n",
      "Constructor called -- Details init\n",
      "\n",
      "Constructor called -- Specs init\n",
      "\n",
      "Mobile Details: \n",
      "\n",
      "Brand:  Samsung\n",
      "Price:  10000\n",
      "Warranty:  2 years\n",
      "OS:  Android\n",
      "Battery:  3000 mAh\n",
      "\n",
      "Constructor called -- Tablet init\n",
      "\n",
      "Constructor called -- Mobile init\n",
      "\n",
      "Constructor called -- Details init\n",
      "\n",
      "Constructor called -- Specs init\n",
      "\n",
      "Tablet Details: \n",
      "\n",
      "Brand:  Samsung\n",
      "Price:  30000\n",
      "Warranty:  3 years\n",
      "OS:  Android\n",
      "Battery:  2000 mAh\n",
      "Size:  31.5 cm\n",
      "Convertible?  Yes\n"
     ]
    }
   ],
   "source": [
    "class Details:\n",
    "    def __init__(self, price, warranty, brand):\n",
    "        print(\"Constructor called -- Details init\\n\")\n",
    "        self.brand = brand\n",
    "        self.price = price\n",
    "        self.warranty = warranty\n",
    "    def printDetails(self):\n",
    "        print(\"Brand: \", self.brand)\n",
    "        print(\"Price: \", self.price)\n",
    "        print(\"Warranty: \", self.warranty)\n",
    "        \n",
    "class Specs:\n",
    "    def __init__(self, os, battery):\n",
    "        print(\"Constructor called -- Specs init\\n\")\n",
    "        self.os = os\n",
    "        self.battery = battery\n",
    "    def printSpecs(self):\n",
    "        print(\"OS: \", self.os)\n",
    "        print(\"Battery: \", self.battery)\n",
    "        \n",
    "class Mobile(Details, Specs):\n",
    "    def __init__(self, price, warranty, brand, os, battery):\n",
    "        print(\"Constructor called -- Mobile init\\n\")\n",
    "        Details.__init__(self, price, warranty, brand)\n",
    "        Specs.__init__(self, os, battery)\n",
    "    def printMobile(self):\n",
    "        Details.printDetails(self)\n",
    "        Specs.printSpecs(self)\n",
    "        \n",
    "class Tablet(Mobile):\n",
    "    def __init__(self, price, warranty, brand, os, battery, size, convertible):\n",
    "        print(\"Constructor called -- Tablet init\\n\")\n",
    "        Mobile.__init__(self, price, warranty, brand, os, battery)\n",
    "        self.size = size;\n",
    "        self.convertible = convertible\n",
    "    def printTablet(self):\n",
    "        Mobile.printMobile(self)\n",
    "        print(\"Size: \", self.size)\n",
    "        print(\"Convertible? \", self.convertible)\n",
    "        \n",
    "def main():\n",
    "    m = Mobile(10000, \"2 years\", \"Samsung\", \"Android\", \"3000 mAh\")\n",
    "    print(\"Mobile Details: \\n\")\n",
    "    m.printMobile()\n",
    "    print()\n",
    "    \n",
    "    t = Tablet(30000, \"3 years\", \"Samsung\", \"Android\", \"2000 mAh\", \"31.5 cm\", \"Yes\")\n",
    "    print(\"Tablet Details: \\n\")\n",
    "    t.printTablet()\n",
    "    \n",
    "if __name__ == \"__main__\":\n",
    "    main()"
   ]
  },
  {
   "cell_type": "markdown",
   "metadata": {},
   "source": [
    "## Magic Methods"
   ]
  },
  {
   "cell_type": "code",
   "execution_count": 34,
   "metadata": {},
   "outputs": [
    {
     "name": "stdout",
     "output_type": "stream",
     "text": [
      "Creating Instance\n",
      "Instance created: {'brand': 'Samsung', 'price': 800}\n",
      "Creating Instance\n",
      "None\n"
     ]
    }
   ],
   "source": [
    "class Device(object):\n",
    "    def __init__(self, brand, price):\n",
    "        self.brand = brand\n",
    "        self.price = price\n",
    " \n",
    "    def __new__(class_, brand, price):\n",
    "        print(\"Creating Instance\")\n",
    "        instance = super(Device, class_).__new__(class_)\n",
    "        if 200 <= price <= 1000:\n",
    "            return instance\n",
    "        else:\n",
    "            return None\n",
    " \n",
    "    def __str__(self):\n",
    "        return \"Instance created: \" + str(self.__dict__)\n",
    " \n",
    " \n",
    "d1 = Device(\"Samsung\", 800)\n",
    "print(d1)\n",
    " \n",
    "d2 = Device(\"Apple\", 20000)\n",
    "print(d2)"
   ]
  },
  {
   "cell_type": "code",
   "execution_count": 22,
   "metadata": {},
   "outputs": [
    {
     "name": "stdout",
     "output_type": "stream",
     "text": [
      "Mobile Class:\n",
      "<__main__.Mobile object at 0x000001C11B49BB20>\n",
      "<__main__.Laptop object at 0x000001C11B49B880>\n",
      "False\n",
      "\n",
      "Laptop Class:\n",
      "<__main__.Laptop object at 0x000001C11B49B880>\n",
      "<__main__.Mobile object at 0x000001C11B49BB20>\n",
      "False\n"
     ]
    }
   ],
   "source": [
    "class Mobile:\n",
    "    def __eq__(self, other):\n",
    "        print('Mobile Class:\\n''%r\\n%r' %(self, other))\n",
    "        return self is other\n",
    "    \n",
    "class Laptop:\n",
    "    def __eq__(self, other):\n",
    "        print('Laptop Class:\\n''%r\\n%r' %(self, other))\n",
    "        return self is other\n",
    "    \n",
    "m = Mobile()\n",
    "l = Laptop()\n",
    "print(m == l)\n",
    "print()\n",
    "print(l == m)"
   ]
  },
  {
   "cell_type": "code",
   "execution_count": 25,
   "metadata": {},
   "outputs": [
    {
     "name": "stdout",
     "output_type": "stream",
     "text": [
      "Price of the objects:  Samsung :  10000   Apple :  50000\n",
      "d1 > d2:  False\n",
      "Price of the objects:  Samsung :  10000   Apple :  50000\n",
      "d1 < d2:  True\n"
     ]
    }
   ],
   "source": [
    "class Device:\n",
    "    def __init__(self, brand, price):\n",
    "        self.brand = brand\n",
    "        self.price = price\n",
    "    def __lt__(self, other):\n",
    "        print(\"Price of the objects: \", self.brand, \": \", self.price, \" \", other.brand, \": \", other.price)\n",
    "        return self.price < other.price\n",
    "    def __gt__(self, other):\n",
    "        print(\"Price of the objects: \", self.brand, \": \", self.price, \" \", other.brand, \": \", other.price)\n",
    "        return self.price > other.price\n",
    "\n",
    "d1 = Device(\"Samsung\", 10000)\n",
    "d2 = Device(\"Apple\", 50000)\n",
    "print(\"d1 > d2: \", d1 > d2)\n",
    "print(\"d1 < d2: \", d1 < d2)"
   ]
  },
  {
   "cell_type": "code",
   "execution_count": 35,
   "metadata": {},
   "outputs": [
    {
     "name": "stdout",
     "output_type": "stream",
     "text": [
      "Enter number of devices you want: 5\n",
      "Enter number of devices your friend wants: 2\n",
      "Total number of devices bought:  7\n"
     ]
    }
   ],
   "source": [
    "class Device(object):\n",
    "    def __init__(self, count):\n",
    "        self.count = count\n",
    "    def __add__(self, other):\n",
    "        total_count = self.count + other.count\n",
    "        return Device(total_count)\n",
    "    def __str__(self):\n",
    "        return 'Total number of devices bought: % i' % self.count\n",
    "\n",
    "n = int(input(\"Enter number of devices you want: \"))\n",
    "m = int(input(\"Enter number of devices your friend wants: \"))\n",
    "c1 = Device(n)\n",
    "c2 = Device(m)\n",
    "c3 = c1 + c2\n",
    "print(c3)"
   ]
  }
 ],
 "metadata": {
  "kernelspec": {
   "display_name": "Python 3",
   "language": "python",
   "name": "python3"
  },
  "language_info": {
   "codemirror_mode": {
    "name": "ipython",
    "version": 3
   },
   "file_extension": ".py",
   "mimetype": "text/x-python",
   "name": "python",
   "nbconvert_exporter": "python",
   "pygments_lexer": "ipython3",
   "version": "3.8.3"
  }
 },
 "nbformat": 4,
 "nbformat_minor": 4
}
